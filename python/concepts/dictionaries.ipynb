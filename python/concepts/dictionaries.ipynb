{
 "cells": [
  {
   "cell_type": "markdown",
   "metadata": {},
   "source": [
    "# Dictionaries"
   ]
  },
  {
   "cell_type": "code",
   "execution_count": 1,
   "metadata": {},
   "outputs": [
    {
     "data": {
      "text/plain": [
       "{'Chapman': 'Graham',\n",
       " 'Cleese': 'John',\n",
       " 'Gilliam': 'Terry',\n",
       " 'Idle': 'Eric',\n",
       " 'Jones': 'Terry',\n",
       " 'Palin': 'Michael'}"
      ]
     },
     "execution_count": 1,
     "metadata": {},
     "output_type": "execute_result"
    }
   ],
   "source": [
    "dict([(\"Chapman\", \"Graham\"), (\"Cleese\", \"John\"), (\"Gilliam\", \"Terry\"), (\"Idle\", \"Eric\"), (\"Jones\", \"Terry\"), (\"Palin\", \"Michael\")])"
   ]
  },
  {
   "cell_type": "code",
   "execution_count": 2,
   "metadata": {},
   "outputs": [
    {
     "data": {
      "text/plain": [
       "{'Chapman': 'Graham',\n",
       " 'Cleese': 'John',\n",
       " 'Gilliam': 'Terry',\n",
       " 'Idle': 'Eric',\n",
       " 'Jones': 'Terry',\n",
       " 'Palin': 'Michael'}"
      ]
     },
     "execution_count": 2,
     "metadata": {},
     "output_type": "execute_result"
    }
   ],
   "source": [
    "dict(Chapman=\"Graham\", Cleese=\"John\", Gilliam=\"Terry\", Idle=\"Eric\", Jones=\"Terry\", Palin=\"Michael\")"
   ]
  },
  {
   "cell_type": "code",
   "execution_count": 3,
   "metadata": {},
   "outputs": [
    {
     "name": "stdout",
     "output_type": "stream",
     "text": [
      "Chapman, Graham\n",
      "Cleese, John\n",
      "Gilliam, Terry\n",
      "Idle, Eric\n",
      "Jones, Terry\n",
      "Palin, Michael\n"
     ]
    }
   ],
   "source": [
    "core = dict(Chapman=\"Graham\", Cleese=\"John\", Gilliam=\"Terry\", Idle=\"Eric\", Jones=\"Terry\", Palin=\"Michael\")\n",
    "for key, value in core.items():\n",
    "    print(f\"{key}, {value}\")"
   ]
  },
  {
   "cell_type": "code",
   "execution_count": 7,
   "metadata": {},
   "outputs": [
    {
     "name": "stdout",
     "output_type": "stream",
     "text": [
      "True\n"
     ]
    }
   ],
   "source": [
    "print(bool(core.get(\"Chapman\", False)))"
   ]
  },
  {
   "cell_type": "code",
   "execution_count": 8,
   "metadata": {},
   "outputs": [
    {
     "name": "stdout",
     "output_type": "stream",
     "text": [
      "False\n"
     ]
    }
   ],
   "source": [
    "print(bool(core.get(\"Frye\", False)))"
   ]
  }
 ],
 "metadata": {
  "interpreter": {
   "hash": "293fa97e69e17396b0b1afb57e178132f3f93c79f773116dcc447fb6da5aa616"
  },
  "kernelspec": {
   "display_name": "Python 3 (ipykernel)",
   "language": "python",
   "name": "python3"
  },
  "language_info": {
   "codemirror_mode": {
    "name": "ipython",
    "version": 3
   },
   "file_extension": ".py",
   "mimetype": "text/x-python",
   "name": "python",
   "nbconvert_exporter": "python",
   "pygments_lexer": "ipython3",
   "version": "3.10.12"
  }
 },
 "nbformat": 4,
 "nbformat_minor": 4
}
