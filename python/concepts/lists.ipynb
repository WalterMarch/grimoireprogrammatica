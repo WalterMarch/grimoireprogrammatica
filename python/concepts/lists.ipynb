{
 "cells": [
  {
   "cell_type": "markdown",
   "id": "4fde702d-7673-4e20-8ea5-3b383bfd7fe2",
   "metadata": {},
   "source": [
    "# Lists"
   ]
  },
  {
   "cell_type": "markdown",
   "id": "2bc940ad-cfa2-4783-81ca-55fa3a01855a",
   "metadata": {},
   "source": [
    "## List Comprehension"
   ]
  },
  {
   "cell_type": "code",
   "execution_count": 5,
   "id": "18ef0e30-3ee3-4053-a4c3-effb2b31740a",
   "metadata": {},
   "outputs": [
    {
     "name": "stdout",
     "output_type": "stream",
     "text": [
      "squares (<class 'list'>: [0, 1, 4, 9, 16, 25, 36, 49, 64, 81, 100]\n"
     ]
    }
   ],
   "source": [
    "# 0 through 10 squared\n",
    "squares = [i**2 for i in range(11)] \n",
    "print(f\"squares ({type(squares)}: {squares}\")"
   ]
  },
  {
   "cell_type": "code",
   "execution_count": 13,
   "id": "603219c9",
   "metadata": {},
   "outputs": [
    {
     "data": {
      "text/plain": [
       "[(0, 0), (1, 1), (64, 64), (729, 729), (4096, 4096)]"
      ]
     },
     "execution_count": 13,
     "metadata": {},
     "output_type": "execute_result"
    }
   ],
   "source": [
    "[(x, y) for x in [i**2 for i in range(101)] for y in [i**3 for i in range(101)] if x == y]"
   ]
  },
  {
   "cell_type": "markdown",
   "id": "d038992c-d9a5-4090-b084-637d3eb97c62",
   "metadata": {},
   "source": [
    "## Slicing"
   ]
  },
  {
   "cell_type": "code",
   "execution_count": 7,
   "id": "14e2dd3e-008e-49e9-8429-7a5951d4adf3",
   "metadata": {},
   "outputs": [
    {
     "data": {
      "text/plain": [
       "[64, 81, 100]"
      ]
     },
     "execution_count": 7,
     "metadata": {},
     "output_type": "execute_result"
    }
   ],
   "source": [
    "squares[-3:]"
   ]
  },
  {
   "cell_type": "code",
   "execution_count": 8,
   "id": "def7e36e-7d7d-4e69-bf43-3a533aaa2d95",
   "metadata": {},
   "outputs": [
    {
     "data": {
      "text/plain": [
       "[9, 16, 25]"
      ]
     },
     "execution_count": 8,
     "metadata": {},
     "output_type": "execute_result"
    }
   ],
   "source": [
    "squares[3:6]"
   ]
  },
  {
   "cell_type": "code",
   "execution_count": 9,
   "id": "ebf433dc-0628-4dda-89ce-dba4f356735e",
   "metadata": {},
   "outputs": [
    {
     "data": {
      "text/plain": [
       "[0, 1, 4, 9, 16, 25]"
      ]
     },
     "execution_count": 9,
     "metadata": {},
     "output_type": "execute_result"
    }
   ],
   "source": [
    "squares[:6]"
   ]
  },
  {
   "cell_type": "markdown",
   "id": "a241d73c-8518-41fb-8bd5-c00ba7c92638",
   "metadata": {},
   "source": [
    "### Use Slicing to create a shallow copy"
   ]
  },
  {
   "cell_type": "markdown",
   "id": "18965940-2649-478f-9eca-7aab76c706b5",
   "metadata": {},
   "source": [
    "https://docs.python.org/3/library/copy.html#shallow-vs-deep-copy"
   ]
  },
  {
   "cell_type": "code",
   "execution_count": 10,
   "id": "f4e23587-962c-4c2b-aa31-ece5989d9269",
   "metadata": {},
   "outputs": [
    {
     "data": {
      "text/plain": [
       "[1, 4, 9, 16, 25]"
      ]
     },
     "execution_count": 10,
     "metadata": {},
     "output_type": "execute_result"
    }
   ],
   "source": [
    "sqrs_first_5_pos_ints = squares[1:6]\n",
    "sqrs_first_5_pos_ints"
   ]
  }
 ],
 "metadata": {
  "interpreter": {
   "hash": "293fa97e69e17396b0b1afb57e178132f3f93c79f773116dcc447fb6da5aa616"
  },
  "kernelspec": {
   "display_name": "Python 3 (ipykernel)",
   "language": "python",
   "name": "python3"
  },
  "language_info": {
   "codemirror_mode": {
    "name": "ipython",
    "version": 3
   },
   "file_extension": ".py",
   "mimetype": "text/x-python",
   "name": "python",
   "nbconvert_exporter": "python",
   "pygments_lexer": "ipython3",
   "version": "3.9.12"
  }
 },
 "nbformat": 4,
 "nbformat_minor": 5
}
