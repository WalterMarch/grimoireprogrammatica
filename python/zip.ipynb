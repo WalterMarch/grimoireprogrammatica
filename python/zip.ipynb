{
 "cells": [
  {
   "cell_type": "markdown",
   "metadata": {},
   "source": [
    "# `zip` built-in function\n",
    "\n",
    "According to https://docs.python.org/3/library/functions.html#zip, `zip` allows you to \"Iterate over several iterables in parallel, producing tuples with an item from each one.\""
   ]
  },
  {
   "cell_type": "code",
   "execution_count": 6,
   "metadata": {},
   "outputs": [
    {
     "name": "stdout",
     "output_type": "stream",
     "text": [
      "<zip object at 0x7f344df7ed00>\n"
     ]
    }
   ],
   "source": [
    "states = [\"Iowa\", \"New York\", \"Pennsylvania\"]\n",
    "capital = [\"Des Moines\", \"Albany\", \"Harrisburg\"]\n",
    "postal_code = [50319, 12207, 17101]\n",
    "\n",
    "capital_zip = zip(capital, states, postal_code)\n",
    "\n",
    "print(capital_zip)"
   ]
  },
  {
   "cell_type": "code",
   "execution_count": 7,
   "metadata": {},
   "outputs": [
    {
     "name": "stdout",
     "output_type": "stream",
     "text": [
      "[('Des Moines', 'Iowa', 50319), ('Albany', 'New York', 12207), ('Harrisburg', 'Pennsylvania', 17101)]\n"
     ]
    }
   ],
   "source": [
    "capital_zip_list = list(capital_zip)\n",
    "print(capital_zip_list)"
   ]
  },
  {
   "cell_type": "code",
   "execution_count": 9,
   "metadata": {},
   "outputs": [
    {
     "name": "stdout",
     "output_type": "stream",
     "text": [
      "('Des Moines', 'Iowa', 50319) <class 'tuple'>\n"
     ]
    }
   ],
   "source": [
    "print(capital_zip_list[0], type(capital_zip_list[0]))"
   ]
  }
 ],
 "metadata": {
  "kernelspec": {
   "display_name": "Python 3",
   "language": "python",
   "name": "python3"
  },
  "language_info": {
   "codemirror_mode": {
    "name": "ipython",
    "version": 3
   },
   "file_extension": ".py",
   "mimetype": "text/x-python",
   "name": "python",
   "nbconvert_exporter": "python",
   "pygments_lexer": "ipython3",
   "version": "3.10.12"
  }
 },
 "nbformat": 4,
 "nbformat_minor": 2
}
